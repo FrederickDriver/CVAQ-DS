{
 "cells": [
  {
   "cell_type": "code",
   "execution_count": 1,
   "id": "9197d18e",
   "metadata": {},
   "outputs": [],
   "source": [
    "import os\n",
    "import json\n",
    "import labelbox as lb\n",
    "import time"
   ]
  },
  {
   "cell_type": "code",
   "execution_count": 2,
   "id": "6140bba9",
   "metadata": {},
   "outputs": [],
   "source": [
    "class UploadLabel(object):\n",
    "    def __init__(self, api_key, project_id, dataset_name, mode_upload_image, images_directory_path=\"\"):\n",
    "        print(\"initialised\")\n",
    "        self.client = lb.Client(api_key=api_key)\n",
    "        self.project = self.client.get_project(project_id)\n",
    "        self.mode_upload_image = mode_upload_image\n",
    "        self.images_directory_path = images_directory_path\n",
    "        self.dataset_name = dataset_name\n",
    "        \n",
    "        \n",
    "    def upload_batch_images(self, mode_upload_image):\n",
    "        global_keys = os.listdir(self.images_directory_path) if mode_upload_image==\"batch\" else [os.path.basename(self.images_directory_path)]\n",
    "        dataset = self.client.create_dataset(name=self.dataset_name)\n",
    "        assets = [\n",
    "            {\n",
    "                \"row_data\": os.path.join(self.images_directory_path, global_key) if mode_upload_image==\"batch\" else self.images_directory_path, \n",
    "                \"global_key\": global_key,\n",
    "                \"media_type\": \"VIDEO\"\n",
    "            } for global_key in global_keys\n",
    "        ]\n",
    "        task = dataset.create_data_rows(assets)\n",
    "        task.wait_till_done()\n",
    "        \n",
    "        if task.errors:\n",
    "            print(\"Errors :\", task.errors)\n",
    "            return  # Exit early if there are errors\n",
    "    \n",
    "        print(\"Failed data rows:\", task.failed_data_rows)\n",
    "        \n",
    "        batch = self.project.create_batch(\n",
    "            self.dataset_name+\"_\"+str(int(time.time())), \n",
    "            global_keys=global_keys, \n",
    "            priority=5 \n",
    "        )\n",
    "        print(batch, self.dataset_name+\"_\"+str(int(time.time())))\n",
    "\n",
    "              \n",
    "    def run(self):\n",
    "        if self.mode_upload_image in [\"single\", \"batch\"]:\n",
    "            self.upload_batch_images(self.mode_upload_image)"
   ]
  },
  {
   "cell_type": "code",
   "execution_count": null,
   "id": "4417e19e",
   "metadata": {},
   "outputs": [],
   "source": [
    "if __name__ == '__main__':\n",
    "    api_key = \"xxx\"\n",
    "    project_id = \"xxx\"\n",
    "    mode_upload_image = 'batch'\n",
    "    images_directory_path = r'xxx'\n",
    "    dataset_name = 'xxx'\n",
    "\n",
    "    u = UploadLabel(api_key, project_id, dataset_name, mode_upload_image, images_directory_path)\n",
    "    u.run()"
   ]
  }
 ],
 "metadata": {
  "kernelspec": {
   "display_name": "AQ",
   "language": "python",
   "name": "aq"
  },
  "language_info": {
   "codemirror_mode": {
    "name": "ipython",
    "version": 3
   },
   "file_extension": ".py",
   "mimetype": "text/x-python",
   "name": "python",
   "nbconvert_exporter": "python",
   "pygments_lexer": "ipython3",
   "version": "3.8.16"
  }
 },
 "nbformat": 4,
 "nbformat_minor": 5
}
